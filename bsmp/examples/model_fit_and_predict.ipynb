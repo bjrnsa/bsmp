{
 "cells": [
  {
   "cell_type": "markdown",
   "metadata": {},
   "source": [
    "# Bayesian Goal Model Fitting and Prediction\n",
    "\n",
    "This notebook demonstrates how to load match data, fit two Bayesian models (Negative Binomial and Poisson Hierarchical), and generate predictions for a specific match."
   ]
  },
  {
   "cell_type": "code",
   "execution_count": 2,
   "metadata": {},
   "outputs": [],
   "source": [
    "# Import necessary libraries\n",
    "from bsmp.data_models.data_loader import MatchDataLoader\n",
    "from bsmp.sports_model.bayesian.nbinom_hierarchical import NbinomHierarchical\n",
    "from bsmp.sports_model.bayesian.poisson_hierarchical import PoissonHierarchical\n",
    "from bsmp.sports_model.utils import dixon_coles_weights\n",
    "import pandas as pd\n",
    "import numpy as np\n"
   ]
  },
  {
   "cell_type": "markdown",
   "metadata": {},
   "source": [
    "## Load Match Data\n",
    "\n",
    "First, we load the match data for the specified league and season."
   ]
  },
  {
   "cell_type": "code",
   "execution_count": 2,
   "metadata": {},
   "outputs": [],
   "source": [
    "# Load match data\n",
    "loader = MatchDataLoader(sport=\"handball\")\n",
    "df = loader.load_matches(\n",
    "    league=\"Herre Handbold Ligaen\",\n",
    "    seasons=[\"2024/2025\"],\n",
    ")\n",
    "df.total_goals.describe()"
   ]
  },
  {
   "cell_type": "markdown",
   "metadata": {},
   "source": [
    "## Fit Bayesian Goal Models\n",
    "\n",
    "Next, we fit two Bayesian models: Negative Binomial Hierarchical and Poisson Hierarchical."
   ]
  },
  {
   "cell_type": "code",
   "execution_count": 3,
   "metadata": {},
   "outputs": [],
   "source": [
    "# Fit Bayesian Goal Model\n",
    "weights = dixon_coles_weights(df.datetime, xi=0.1)\n",
    "nbinom_model = NbinomHierarchical(\n",
    "    data=df,\n",
    "    # weights=weights,\n",
    "    stem=\"nbinom_hierarchical\",\n",
    ")\n",
    "nbinom_model.fit()\n",
    "poisson_model = PoissonHierarchical(\n",
    "    data=df,\n",
    "    # weights=weights,\n",
    "    stem=\"poisson_hierarchical\",\n",
    ")\n",
    "poisson_model.fit()"
   ]
  },
  {
   "cell_type": "markdown",
   "metadata": {},
   "source": [
    "## Predict Match Outcome\n",
    "\n",
    "Finally, we generate predictions for a specific match using both models."
   ]
  },
  {
   "cell_type": "code",
   "execution_count": 4,
   "metadata": {},
   "outputs": [
    {
     "name": "stdout",
     "output_type": "stream",
     "text": [
      "Class: HandballProbabilityGrid\n",
      "\n",
      "Home Goal Expectation: 25\n",
      "Away Goal Expectation: 25\n",
      "\n",
      "Home Win: 0.333\n",
      "Draw: 0.333\n",
      "Away Win: 0.333\n",
      "\n",
      "Home Odds: 3.000\n",
      "Draw Odds: 3.000\n",
      "Away Odds: 3.000\n",
      "\n",
      "Class: HandballProbabilityGrid\n",
      "\n",
      "Home Goal Expectation: 25\n",
      "Away Goal Expectation: 25\n",
      "\n",
      "Home Win: 0.333\n",
      "Draw: 0.333\n",
      "Away Win: 0.333\n",
      "\n",
      "Home Odds: 3.000\n",
      "Draw Odds: 3.000\n",
      "Away Odds: 3.000\n",
      "\n"
     ]
    }
   ],
   "source": [
    "team_1 = \"Aalborg\"\n",
    "team_2 = \"Skanderborg AGF\"\n",
    "\n",
    "# Predict match outcome\n",
    "nbinom_prediction = nbinom_model.predict(\n",
    "    home_team=team_1, away_team=team_2, max_goals=50, n_samples=50\n",
    ")\n",
    "poisson_prediction = poisson_model.predict(\n",
    "    home_team=team_1, away_team=team_2, max_goals=50, n_samples=50\n",
    ")\n",
    "print(nbinom_prediction)\n",
    "print(poisson_prediction)"
   ]
  }
 ],
 "metadata": {
  "kernelspec": {
   "display_name": ".venv",
   "language": "python",
   "name": "python3"
  },
  "language_info": {
   "codemirror_mode": {
    "name": "ipython",
    "version": 3
   },
   "file_extension": ".py",
   "mimetype": "text/x-python",
   "name": "python",
   "nbconvert_exporter": "python",
   "pygments_lexer": "ipython3",
   "version": "3.13.1"
  }
 },
 "nbformat": 4,
 "nbformat_minor": 4
}
